{
 "cells": [
  {
   "cell_type": "code",
   "execution_count": 2,
   "metadata": {},
   "outputs": [],
   "source": [
    "import numpy as np"
   ]
  },
  {
   "cell_type": "code",
   "execution_count": 5,
   "metadata": {},
   "outputs": [
    {
     "ename": "ModuleNotFoundError",
     "evalue": "No module named 'beat'",
     "output_type": "error",
     "traceback": [
      "\u001b[0;31m---------------------------------------------------------------------------\u001b[0m",
      "\u001b[0;31mModuleNotFoundError\u001b[0m                       Traceback (most recent call last)",
      "\u001b[1;32m/Users/alexanderhatle/Documents/Computing the Electrical Activity in the Heart/OperatorSplitting.ipynb Cell 2\u001b[0m line \u001b[0;36m1\n\u001b[0;32m----> <a href='vscode-notebook-cell:/Users/alexanderhatle/Documents/Computing%20the%20Electrical%20Activity%20in%20the%20Heart/OperatorSplitting.ipynb#W3sZmlsZQ%3D%3D?line=0'>1</a>\u001b[0m \u001b[39mimport\u001b[39;00m \u001b[39mbeat\u001b[39;00m\n",
      "\u001b[0;31mModuleNotFoundError\u001b[0m: No module named 'beat'"
     ]
    }
   ],
   "source": [
    "import beat"
   ]
  },
  {
   "cell_type": "code",
   "execution_count": 4,
   "metadata": {},
   "outputs": [],
   "source": [
    "def splitting(u0, dt, solveL1, solveL2, theta):\n",
    "    \"\"\"Operator splitting\n",
    "\n",
    "    Args:\n",
    "        u0 (array): initial condition\n",
    "        dt (float): timestep\n",
    "        solveL1 (function): Solver for the first operator on u0\n",
    "        solveL2 (function): Solver for the second operator on u0\n",
    "        theta (float): Parameter [0,1] to choose splitting method. Theta=1/2 yields Strang splitting, while theta=1 yields Godunov splitting.\n",
    "\n",
    "    Returns:\n",
    "        u (array): solution after the timestep dt\n",
    "    \"\"\"\n",
    "    u = solveL1(u0, theta*dt)\n",
    "    v = solveL2(u, dt)\n",
    "    w = solveL1(v, (1-theta)*dt)\n",
    "    return w"
   ]
  },
  {
   "cell_type": "code",
   "execution_count": null,
   "metadata": {},
   "outputs": [],
   "source": []
  }
 ],
 "metadata": {
  "kernelspec": {
   "display_name": "Python 3",
   "language": "python",
   "name": "python3"
  },
  "language_info": {
   "codemirror_mode": {
    "name": "ipython",
    "version": 3
   },
   "file_extension": ".py",
   "mimetype": "text/x-python",
   "name": "python",
   "nbconvert_exporter": "python",
   "pygments_lexer": "ipython3",
   "version": "3.9.16"
  },
  "orig_nbformat": 4
 },
 "nbformat": 4,
 "nbformat_minor": 2
}
