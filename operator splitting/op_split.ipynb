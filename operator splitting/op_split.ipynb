{
 "cells": [
  {
   "cell_type": "code",
   "execution_count": 51,
   "metadata": {},
   "outputs": [],
   "source": [
    "from dolfinx import fem, mesh, io\n",
    "import dolfinx.fem.petsc as petsc\n",
    "import numpy as np\n",
    "from mpi4py import MPI\n",
    "import ufl"
   ]
  },
  {
   "cell_type": "code",
   "execution_count": 52,
   "metadata": {},
   "outputs": [],
   "source": [
    "# Define temporal parameters\n",
    "T = 1.0  # Final time\n",
    "num_steps = 50\n",
    "dt = T / num_steps  # time step size\n",
    "\n",
    "lam = 1\n",
    "gamma = dt * lam / (1+lam)\n",
    "theta = 1/2"
   ]
  },
  {
   "cell_type": "code",
   "execution_count": 53,
   "metadata": {},
   "outputs": [],
   "source": [
    "Nx = 50\n",
    "Ny = 50\n",
    "\n",
    "domain = mesh.create_unit_square(MPI.COMM_WORLD, Nx, Ny, mesh.CellType.quadrilateral)\n",
    "V = fem.functionspace(domain, (\"Lagrange\", 1))\n",
    "t = fem.Constant(domain, 0.0)\n",
    "\n",
    "X = ufl.SpatialCoordinate(domain)\n",
    "I_stim = 8 * ufl.pi**2 * lam/(1+lam) * ufl.sin(t) * ufl.cos(2*ufl.pi*X[0]) * ufl.cos(2*ufl.pi*X[1])\n",
    "\n",
    "# Create initial conditions\n",
    "def initial_v(x):\n",
    "    return 0*x[0]\n",
    "\n",
    "vn = fem.Function(V)\n",
    "vn.name = \"vn\"\n",
    "vn.interpolate(initial_v)\n",
    "\n",
    "def initial_s(x):\n",
    "    return -np.cos(2*np.pi * x[0]) * np.cos(2*np.pi * x[1])\n",
    "\n",
    "sn = fem.Function(V)\n",
    "sn.name = \"sn\"\n",
    "sn.interpolate(initial_s)\n",
    "\n",
    "vntheta = fem.Function(V)\n",
    "vntheta.name = \"vntheta\"\n",
    "\n",
    "sntheta = fem.Function(V)\n",
    "sntheta.name = \"sntheta\"\n",
    "\n",
    "xdmf = io.XDMFFile(domain.comm, \"monodomain.xdmf\", \"w\")\n",
    "xdmf.write_mesh(domain)\n",
    "xdmf.write_function(vn, t)"
   ]
  },
  {
   "cell_type": "code",
   "execution_count": 54,
   "metadata": {},
   "outputs": [],
   "source": [
    "v = ufl.TrialFunction(V)\n",
    "phi = ufl.TestFunction(V)\n",
    "\n",
    "a = phi * v * ufl.dx + gamma * theta * ufl.dot(ufl.grad(phi), ufl.grad(v)) * ufl.dx\n",
    "L = phi * (vntheta + dt * I_stim) * ufl.dx - gamma * (1-theta) * ufl.dot(ufl.grad(phi), ufl.grad(vntheta)) * ufl.dx"
   ]
  },
  {
   "cell_type": "code",
   "execution_count": 55,
   "metadata": {},
   "outputs": [],
   "source": [
    "compiled_a = fem.form(a)\n",
    "A = petsc.assemble_matrix(compiled_a)\n",
    "A.assemble()\n",
    "\n",
    "compiled_L = fem.form(L)\n",
    "b = fem.Function(V)"
   ]
  },
  {
   "cell_type": "code",
   "execution_count": 56,
   "metadata": {},
   "outputs": [],
   "source": [
    "def forward_euler_step(init, dt):\n",
    "    v = init[0] - dt * init[1]\n",
    "    s = init[1] + dt * init[0]\n",
    "    return v, s"
   ]
  },
  {
   "cell_type": "code",
   "execution_count": 57,
   "metadata": {},
   "outputs": [],
   "source": [
    "from petsc4py import PETSc\n",
    "solver = PETSc.KSP().create(domain.comm)\n",
    "solver.setOperators(A)\n",
    "solver.setType(PETSc.KSP.Type.PREONLY)\n",
    "solver.getPC().setType(PETSc.PC.Type.LU)"
   ]
  },
  {
   "cell_type": "code",
   "execution_count": 58,
   "metadata": {},
   "outputs": [],
   "source": [
    "def v_exact(t):\n",
    "    return lambda x: np.cos(2 * np.pi * x[0]) * np.cos(2 * np.pi * x[1]) * np.sin(t)\n",
    "v_ex = fem.Function(V)\n",
    "v_ex.name = \"v_ex\"\n",
    "v_ex.interpolate(v_exact(0))\n",
    "xdmf.write_function(v_ex,0)\n",
    "\n",
    "while t.value < T:\n",
    "    # Step 1\n",
    "    t.value += theta * dt\n",
    "    vntheta.x.array[:], sntheta.x.array[:] = forward_euler_step([vn.x.array, sn.x.array], theta * dt)\n",
    "\n",
    "    # Step 2\n",
    "    b.x.array[:] = 0\n",
    "    petsc.assemble_vector(b.vector, compiled_L)\n",
    "    \n",
    "    solver.solve(b.vector, vn.vector)\n",
    "    vn.x.scatter_forward()\n",
    "\n",
    "    # Step 3\n",
    "    t.value += (1-theta) * dt\n",
    "\n",
    "    vn.x.array[:], sn.x.array[:] = forward_euler_step([vn.x.array.copy(), sntheta.x.array], (1-theta) * dt)\n",
    "    v_ex.interpolate(v_exact(t.value))\n",
    "    xdmf.write_function(vn, t.value)\n",
    "    xdmf.write_function(v_ex, t.value)\n",
    "xdmf.close()"
   ]
  },
  {
   "cell_type": "code",
   "execution_count": 59,
   "metadata": {},
   "outputs": [
    {
     "name": "stdout",
     "output_type": "stream",
     "text": [
      "L2-error: 6.40e-04\n"
     ]
    }
   ],
   "source": [
    "def v_exact(t):\n",
    "    return lambda x: np.cos(2 * np.pi * x[0]) * np.cos(2 * np.pi * x[1]) * np.sin(t)\n",
    "\n",
    "v_ex = fem.Function(V)\n",
    "v_ex.interpolate(v_exact(t.value))\n",
    "\n",
    "comm = vn.function_space.mesh.comm\n",
    "error = fem.form((vn - v_ex)**2 * ufl.dx)\n",
    "E = np.sqrt(comm.allreduce(fem.assemble_scalar(error), MPI.SUM))\n",
    "if comm.rank == 0:\n",
    "    print(f\"L2-error: {E:.2e}\")"
   ]
  },
  {
   "cell_type": "code",
   "execution_count": null,
   "metadata": {},
   "outputs": [],
   "source": []
  }
 ],
 "metadata": {
  "kernelspec": {
   "display_name": "Python 3",
   "language": "python",
   "name": "python3"
  },
  "language_info": {
   "codemirror_mode": {
    "name": "ipython",
    "version": 3
   },
   "file_extension": ".py",
   "mimetype": "text/x-python",
   "name": "python",
   "nbconvert_exporter": "python",
   "pygments_lexer": "ipython3",
   "version": "3.12.6"
  },
  "orig_nbformat": 4
 },
 "nbformat": 4,
 "nbformat_minor": 2
}
